{
 "cells": [
  {
   "cell_type": "markdown",
   "id": "cd0b8601-d1a7-4487-a1d4-1c334f815891",
   "metadata": {},
   "source": [
    "# Data Science Tools and Ecosystem\n",
    "In this notebook, Data Science Tools and Ecosystem are summarized."
   ]
  },
  {
   "cell_type": "markdown",
   "id": "d1f8d9f2-e732-4f4b-a73b-8947e56bfebb",
   "metadata": {},
   "source": [
    "**Objectives:**\n",
    "* arithmetic expressions\n",
    "* ordered list\n",
    "* tables\n",
    "* header style"
   ]
  },
  {
   "cell_type": "markdown",
   "id": "cca6e463-02b1-45b3-8136-357f0fceb038",
   "metadata": {},
   "source": [
    "Some of the popular languages that Data Scientists use are:\n",
    "1. Python\n",
    "2. SQL\n",
    "3. R"
   ]
  },
  {
   "cell_type": "markdown",
   "id": "2e478d29-ed3b-4f41-a988-242c37646653",
   "metadata": {},
   "source": [
    "Some of the commonly used libraries used by Data Scientists include:\n",
    "1. Pandas\n",
    "2. Numpy\n",
    "3. Tensorflow\n",
    "4. Matplotlib"
   ]
  },
  {
   "cell_type": "markdown",
   "id": "4a9e9a0b-a6d2-40be-b296-61dadc0d0014",
   "metadata": {},
   "source": [
    "|Data Science Tools |\n",
    "|-------------------|\n",
    "|Anaconda           |\n",
    "|Jupyter Notebooks  |\n",
    "|Anaconda           |"
   ]
  },
  {
   "cell_type": "markdown",
   "id": "40697697-4963-4cbd-b6d5-dcfb1ac0f4d7",
   "metadata": {},
   "source": [
    "### Below are a few examples of evaluating arithmetic expressions in Python.\n",
    "\n",
    "x = 10\n",
    "y = 5 \n",
    "\n",
    "print (x*y)\n",
    "\n",
    "(4*4)/2"
   ]
  },
  {
   "cell_type": "code",
   "execution_count": 6,
   "id": "d62f6e51-ed37-4610-b6e9-60afa86f9843",
   "metadata": {},
   "outputs": [
    {
     "data": {
      "text/plain": [
       "17"
      ]
     },
     "execution_count": 6,
     "metadata": {},
     "output_type": "execute_result"
    }
   ],
   "source": [
    "# This a simple arithmetic expression to multiply then add integers\n",
    "(3*4)+5"
   ]
  },
  {
   "cell_type": "code",
   "execution_count": 7,
   "id": "3ae13a1e-3a76-499a-989d-dbeff036b7c0",
   "metadata": {},
   "outputs": [
    {
     "name": "stdout",
     "output_type": "stream",
     "text": [
      "3.3333333333333335\n"
     ]
    }
   ],
   "source": [
    "# This will convert 200 minutes to hours by dividing by 60\n",
    "minutes = 200\n",
    "hours = minutes/60\n",
    "print (hours)"
   ]
  },
  {
   "cell_type": "markdown",
   "id": "ef14155f-3d62-4367-9361-b4bf04149641",
   "metadata": {},
   "source": [
    "## Author\n",
    "Diego Andres Domínguez Sanchez"
   ]
  },
  {
   "cell_type": "code",
   "execution_count": null,
   "id": "ca6c107d-682a-4fce-a64b-2631b9d04865",
   "metadata": {},
   "outputs": [],
   "source": []
  }
 ],
 "metadata": {
  "kernelspec": {
   "display_name": "Python 3 (ipykernel)",
   "language": "python",
   "name": "python3"
  },
  "language_info": {
   "codemirror_mode": {
    "name": "ipython",
    "version": 3
   },
   "file_extension": ".py",
   "mimetype": "text/x-python",
   "name": "python",
   "nbconvert_exporter": "python",
   "pygments_lexer": "ipython3",
   "version": "3.12.7"
  }
 },
 "nbformat": 4,
 "nbformat_minor": 5
}
